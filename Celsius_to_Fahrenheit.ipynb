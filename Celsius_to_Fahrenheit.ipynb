{
  "nbformat": 4,
  "nbformat_minor": 0,
  "metadata": {
    "colab": {
      "name": "Celsius to Fahrenheit.ipynb",
      "provenance": [],
      "authorship_tag": "ABX9TyNc5N5ziQXaFLSId0EDQhNd",
      "include_colab_link": true
    },
    "kernelspec": {
      "name": "python3",
      "display_name": "Python 3"
    },
    "language_info": {
      "name": "python"
    },
    "accelerator": "GPU"
  },
  "cells": [
    {
      "cell_type": "markdown",
      "metadata": {
        "id": "view-in-github",
        "colab_type": "text"
      },
      "source": [
        "<a href=\"https://colab.research.google.com/github/chris-kehl/tensorflow_celsius_fahrenheit_converter/blob/main/Celsius_to_Fahrenheit.ipynb\" target=\"_parent\"><img src=\"https://colab.research.google.com/assets/colab-badge.svg\" alt=\"Open In Colab\"/></a>"
      ]
    },
    {
      "cell_type": "markdown",
      "source": [
        "Creating a tensorflow artificial neural network to convert celcius to fahrenheit. This from the Udacity tensorflow course. First tutorial they demonstrate when explaining how to use tensorflow and keras."
      ],
      "metadata": {
        "id": "6ShCHTMuoeKY"
      }
    },
    {
      "cell_type": "code",
      "execution_count": 1,
      "metadata": {
        "id": "95F5IdiGodpv"
      },
      "outputs": [],
      "source": [
        "# import tensorflow and numpy\n",
        "import tensorflow as tf\n",
        "import numpy as np"
      ]
    },
    {
      "cell_type": "markdown",
      "source": [
        "We will have the inputs as celcius and fahrenheit"
      ],
      "metadata": {
        "id": "4u8ONu2FsgJu"
      }
    },
    {
      "cell_type": "code",
      "source": [
        "celsius_q = np.array([-273, -40, -10, 0, 8, 15, 22, 25, 30, 35, 37, 38, 40, 100, 180], dtype=float)\n",
        "fahrenheit_a = np.array([-460, -40, 14, 32, 46,49, 72, 77, 86, 95, 99, 100, 104, 212, 356])\n",
        "\n",
        "for i,c in enumerate(celsius_q):\n",
        "    print(\"{} degrees Celsius = {} degrees fahrenheit\".format(c, fahrenheit_a[i]))\n"
      ],
      "metadata": {
        "id": "8LHNf37ts6ea",
        "outputId": "0aab09cf-e11d-4228-d3b4-ec562f7da5c9",
        "colab": {
          "base_uri": "https://localhost:8080/"
        }
      },
      "execution_count": 2,
      "outputs": [
        {
          "output_type": "stream",
          "name": "stdout",
          "text": [
            "-273.0 degrees Celsius = -460 degrees fahrenheit\n",
            "-40.0 degrees Celsius = -40 degrees fahrenheit\n",
            "-10.0 degrees Celsius = 14 degrees fahrenheit\n",
            "0.0 degrees Celsius = 32 degrees fahrenheit\n",
            "8.0 degrees Celsius = 46 degrees fahrenheit\n",
            "15.0 degrees Celsius = 49 degrees fahrenheit\n",
            "22.0 degrees Celsius = 72 degrees fahrenheit\n",
            "25.0 degrees Celsius = 77 degrees fahrenheit\n",
            "30.0 degrees Celsius = 86 degrees fahrenheit\n",
            "35.0 degrees Celsius = 95 degrees fahrenheit\n",
            "37.0 degrees Celsius = 99 degrees fahrenheit\n",
            "38.0 degrees Celsius = 100 degrees fahrenheit\n",
            "40.0 degrees Celsius = 104 degrees fahrenheit\n",
            "100.0 degrees Celsius = 212 degrees fahrenheit\n",
            "180.0 degrees Celsius = 356 degrees fahrenheit\n"
          ]
        }
      ]
    },
    {
      "cell_type": "markdown",
      "source": [
        "Our features are the inputs, the labels are the output our model predicts.\n",
        "the examples are a pair of inputs/outputs used during training.\n",
        "\n",
        "The next step to our model is to create the layers."
      ],
      "metadata": {
        "id": "MlXiODKMye-W"
      }
    },
    {
      "cell_type": "code",
      "source": [
        "l0 = tf.keras.layers.Dense(units=1, input_shape=[1])"
      ],
      "metadata": {
        "id": "sS4JafC30EVY"
      },
      "execution_count": 3,
      "outputs": []
    },
    {
      "cell_type": "code",
      "source": [
        "model = tf.keras.Sequential([l0])"
      ],
      "metadata": {
        "id": "_ZVlGxWFlhXk"
      },
      "execution_count": 4,
      "outputs": []
    },
    {
      "cell_type": "markdown",
      "source": [
        "Assemble layers into the model"
      ],
      "metadata": {
        "id": "coSkxhC0kD_w"
      }
    },
    {
      "cell_type": "code",
      "source": [
        "model = tf.keras.Sequential([\n",
        "     tf.keras.layers.Dense(units=1, input_shape=[1])\n",
        "])"
      ],
      "metadata": {
        "id": "nQcxS2fkkG8h"
      },
      "execution_count": 5,
      "outputs": []
    },
    {
      "cell_type": "markdown",
      "source": [
        "Compile the models"
      ],
      "metadata": {
        "id": "2cEy9CB3l3aZ"
      }
    },
    {
      "cell_type": "code",
      "source": [
        "model.compile(loss='mean_squared_error',\n",
        "              optimizer=tf.keras.optimizers.Adam(0.1))"
      ],
      "metadata": {
        "id": "TH5MmvSbl1lB"
      },
      "execution_count": 6,
      "outputs": []
    },
    {
      "cell_type": "markdown",
      "source": [
        "Train the model by using the fit method"
      ],
      "metadata": {
        "id": "xBeHAjF8mlaa"
      }
    },
    {
      "cell_type": "code",
      "source": [
        "histroy = model.fit(celsius_q, fahrenheit_a, epochs=600, verbose=False)\n",
        "print(\"Finished training the model\")"
      ],
      "metadata": {
        "id": "Vl83W2JRmp8U",
        "outputId": "7d34944c-b373-47c5-fa9f-2d8cd4aeafde",
        "colab": {
          "base_uri": "https://localhost:8080/"
        }
      },
      "execution_count": 7,
      "outputs": [
        {
          "output_type": "stream",
          "name": "stdout",
          "text": [
            "Finished training the model\n"
          ]
        }
      ]
    },
    {
      "cell_type": "markdown",
      "source": [
        "Display the training statistics\n"
      ],
      "metadata": {
        "id": "cx7dBsgDnS0z"
      }
    },
    {
      "cell_type": "code",
      "source": [
        "import matplotlib.pyplot as plt\n",
        "plt.xlabel('Epoch Number')\n",
        "plt.ylabel('loss Magnatude')\n",
        "plt.plot(histroy.history['loss'])\n",
        "\n"
      ],
      "metadata": {
        "id": "OIr31EOonXUd",
        "outputId": "b6dbc284-fc4e-43bf-a7ce-85994b84bfbf",
        "colab": {
          "base_uri": "https://localhost:8080/",
          "height": 296
        }
      },
      "execution_count": 8,
      "outputs": [
        {
          "output_type": "execute_result",
          "data": {
            "text/plain": [
              "[<matplotlib.lines.Line2D at 0x7f25c0453c90>]"
            ]
          },
          "metadata": {},
          "execution_count": 8
        },
        {
          "output_type": "display_data",
          "data": {
            "image/png": "[encoded data removed]",
            "text/plain": [
              "<Figure size 432x288 with 1 Axes>"
            ]
          },
          "metadata": {
            "needs_background": "light"
          }
        }
      ]
    },
    {
      "cell_type": "markdown",
      "source": [
        "Execute the model and see what our prediction is "
      ],
      "metadata": {
        "id": "zhCDl_8YqoHd"
      }
    },
    {
      "cell_type": "code",
      "source": [
        "print(model.predict([100.0]))"
      ],
      "metadata": {
        "id": "n9JBgxJXmeLk",
        "outputId": "1b4ff092-17fb-42a2-e67e-717475a76516",
        "colab": {
          "base_uri": "https://localhost:8080/"
        }
      },
      "execution_count": 9,
      "outputs": [
        {
          "output_type": "stream",
          "name": "stdout",
          "text": [
            "[[210.46655]]\n"
          ]
        }
      ]
    },
    {
      "cell_type": "markdown",
      "source": [
        "Print the weights and see if they match the formula F = 1.8c + 32"
      ],
      "metadata": {
        "id": "9XTRjFq1sKmg"
      }
    },
    {
      "cell_type": "code",
      "source": [
        "print(\"These are the layer variables: {}\".format(l0.get_weights()))\n"
      ],
      "metadata": {
        "id": "E7ny-mQMsGG_",
        "outputId": "cdeb67a7-5586-47fb-c609-b2cfd63e8fa3",
        "colab": {
          "base_uri": "https://localhost:8080/"
        }
      },
      "execution_count": 10,
      "outputs": [
        {
          "output_type": "stream",
          "name": "stdout",
          "text": [
            "These are the layer variables: [array([[1.201259]], dtype=float32), array([0.], dtype=float32)]\n"
          ]
        }
      ]
    },
    {
      "cell_type": "markdown",
      "source": [
        "Try an experiment with different layers\n"
      ],
      "metadata": {
        "id": "XeY_8Gc8tb-C"
      }
    },
    {
      "cell_type": "code",
      "source": [
        "l0 = tf.keras.layers.Dense(units=1, input_shape=[1])\n",
        "l1 = tf.keras.layers.Dense(units=8)\n",
        "l2 = tf.keras.layers.Dense(units=1)\n",
        "model = tf.keras.Sequential([l0, l1, l2])\n",
        "model.compile(loss='mean_squared_error', optimizer=tf.keras.optimizers.Adam(0.1))\n",
        "model.fit(celsius_q, fahrenheit_a, epochs=1000, verbose=False)\n",
        "print(\"Finished Training the model for 500 epochs\")\n",
        "print(model.predict([100.0]))\n",
        "print(\"model predicts that 100 degrees celcius is: {} degrees fahrenheit\")\n",
        "print(\"These are l0 variables {}\".format(l0.get_weights()))\n",
        "print(\"These are the l1 variables {}\".format(l1.get_weights()))\n",
        "print(\"These are the l2 variables {}\".format(l2.get_weights()))"
      ],
      "metadata": {
        "id": "_BjaEY-TthAj",
        "outputId": "7669f247-d682-4c40-f408-8d5f965d4217",
        "colab": {
          "base_uri": "https://localhost:8080/"
        }
      },
      "execution_count": 11,
      "outputs": [
        {
          "output_type": "stream",
          "name": "stdout",
          "text": [
            "Finished Training the model for 500 epochs\n",
            "[[211.4085]]\n",
            "model predicts that 100 degrees celcius is: {} degrees fahrenheit\n",
            "These are l0 variables [array([[-0.63139915]], dtype=float32), array([-4.29514], dtype=float32)]\n",
            "These are the l1 variables [array([[-0.93783873,  0.02956397,  0.7887342 ,  0.33843648,  0.10362445,\n",
            "        -0.01879049, -0.7330588 , -0.72502875]], dtype=float32), array([ 4.049339 , -1.7465234, -3.7921596, -3.6040218, -3.6273952,\n",
            "       -0.3801401,  3.8151293,  4.237005 ], dtype=float32)]\n",
            "These are the l2 variables [array([[ 0.8330866 ],\n",
            "       [-0.06258301],\n",
            "       [-1.007922  ],\n",
            "       [-0.40019646],\n",
            "       [-0.21378313],\n",
            "       [-0.07026255],\n",
            "       [ 0.9165634 ],\n",
            "       [ 0.61601007]], dtype=float32), array([3.3648694], dtype=float32)]\n"
          ]
        }
      ]
    },
    {
      "cell_type": "code",
      "source": [
        ""
      ],
      "metadata": {
        "id": "estBuUMBtafX"
      },
      "execution_count": 11,
      "outputs": []
    }
  ]
}